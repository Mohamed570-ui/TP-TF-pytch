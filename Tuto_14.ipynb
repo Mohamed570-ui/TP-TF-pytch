{
  "nbformat": 4,
  "nbformat_minor": 0,
  "metadata": {
    "colab": {
      "provenance": []
    },
    "kernelspec": {
      "name": "python3",
      "display_name": "Python 3"
    },
    "language_info": {
      "name": "python"
    }
  },
  "cells": [
    {
      "cell_type": "code",
      "execution_count": null,
      "metadata": {
        "id": "vnOlpeHPTs9J",
        "colab": {
          "base_uri": "https://localhost:8080/"
        },
        "outputId": "418b790c-e1a5-4741-d523-8a2a85d86107"
      },
      "outputs": [
        {
          "output_type": "stream",
          "name": "stdout",
          "text": [
            "Training set has 60000 instances\n",
            "Validation set has 10000 instances\n"
          ]
        }
      ],
      "source": [
        "import torch\n",
        "import torchvision\n",
        "import torchvision.transforms as transforms\n",
        "\n",
        "# PyTorch TensorBoard support\n",
        "from torch.utils.tensorboard import SummaryWriter\n",
        "from datetime import datetime\n",
        "\n",
        "\n",
        "transform = transforms.Compose(\n",
        "    [transforms.ToTensor(),\n",
        "    transforms.Normalize((0.5,), (0.5,))])\n",
        "\n",
        "# Create datasets for training & validation, download if necessary\n",
        "training_set = torchvision.datasets.FashionMNIST('./data', train=True, transform=transform, download=True)\n",
        "validation_set = torchvision.datasets.FashionMNIST('./data', train=False, transform=transform, download=True)\n",
        "\n",
        "# Create data loaders for our datasets; shuffle for training, not for validation\n",
        "training_loader = torch.utils.data.DataLoader(training_set, batch_size=4, shuffle=True)\n",
        "validation_loader = torch.utils.data.DataLoader(validation_set, batch_size=4, shuffle=False)\n",
        "\n",
        "# Class labels\n",
        "classes = ('T-shirt/top', 'Trouser', 'Pullover', 'Dress', 'Coat',\n",
        "        'Sandal', 'Shirt', 'Sneaker', 'Bag', 'Ankle Boot')\n",
        "\n",
        "# Report split sizes\n",
        "print('Training set has {} instances'.format(len(training_set)))\n",
        "print('Validation set has {} instances'.format(len(validation_set)))"
      ]
    },
    {
      "cell_type": "code",
      "source": [
        "import matplotlib.pyplot as plt\n",
        "import numpy as np\n",
        "\n",
        "# Helper function for inline image display\n",
        "def matplotlib_imshow(img, one_channel=False):\n",
        "    if one_channel:\n",
        "        img = img.mean(dim=0)\n",
        "    img = img / 2 + 0.5     # unnormalize\n",
        "    npimg = img.numpy()\n",
        "    if one_channel:\n",
        "        plt.imshow(npimg, cmap=\"Greys\")\n",
        "    else:\n",
        "        plt.imshow(np.transpose(npimg, (1, 2, 0)))\n",
        "\n",
        "dataiter = iter(training_loader)\n",
        "images, labels = next(dataiter)\n",
        "\n",
        "# Create a grid from the images and show them\n",
        "img_grid = torchvision.utils.make_grid(images)\n",
        "matplotlib_imshow(img_grid, one_channel=True)\n",
        "print('  '.join(classes[labels[j]] for j in range(4)))"
      ],
      "metadata": {
        "id": "jZNVPrWhT_sc",
        "colab": {
          "base_uri": "https://localhost:8080/",
          "height": 211
        },
        "outputId": "a5ba8251-a494-4d45-e1a8-3e346ecbfd3d"
      },
      "execution_count": null,
      "outputs": [
        {
          "output_type": "stream",
          "name": "stdout",
          "text": [
            "T-shirt/top  Ankle Boot  T-shirt/top  Sneaker\n"
          ]
        },
        {
          "output_type": "display_data",
          "data": {
            "text/plain": [
              "<Figure size 640x480 with 1 Axes>"
            ],
            "image/png": "[encoded data removed]"
          },
          "metadata": {}
        }
      ]
    },
    {
      "cell_type": "code",
      "source": [
        "import torch.nn as nn\n",
        "import torch.nn.functional as F\n",
        "\n",
        "# PyTorch models inherit from torch.nn.Module\n",
        "class GarmentClassifier(nn.Module):\n",
        "    def __init__(self):\n",
        "        super(GarmentClassifier, self).__init__()\n",
        "        self.conv1 = nn.Conv2d(1, 6, 5)\n",
        "        self.pool = nn.MaxPool2d(2, 2)\n",
        "        self.conv2 = nn.Conv2d(6, 16, 5)\n",
        "        self.fc1 = nn.Linear(16 * 4 * 4, 120)\n",
        "        self.fc2 = nn.Linear(120, 84)\n",
        "        self.fc3 = nn.Linear(84, 10)\n",
        "\n",
        "    def forward(self, x):\n",
        "        x = self.pool(F.relu(self.conv1(x)))\n",
        "        x = self.pool(F.relu(self.conv2(x)))\n",
        "        x = x.view(-1, 16 * 4 * 4)\n",
        "        x = F.relu(self.fc1(x))\n",
        "        x = F.relu(self.fc2(x))\n",
        "        x = self.fc3(x)\n",
        "        return x\n",
        "\n",
        "\n",
        "model = GarmentClassifier()"
      ],
      "metadata": {
        "id": "PJoocA_EUGXq"
      },
      "execution_count": null,
      "outputs": []
    },
    {
      "cell_type": "code",
      "source": [
        "loss_fn = torch.nn.CrossEntropyLoss()\n",
        "\n",
        "# NB: Loss functions expect data in batches, so we're creating batches of 4\n",
        "# Represents the model's confidence in each of the 10 classes for a given input\n",
        "dummy_outputs = torch.rand(4, 10)\n",
        "# Represents the correct class among the 10 being tested\n",
        "dummy_labels = torch.tensor([1, 5, 3, 7])\n",
        "\n",
        "print(dummy_outputs)\n",
        "print(dummy_labels)\n",
        "\n",
        "loss = loss_fn(dummy_outputs, dummy_labels)\n",
        "print('Total loss for this batch: {}'.format(loss.item()))"
      ],
      "metadata": {
        "id": "vQTZCgJWUUxz",
        "colab": {
          "base_uri": "https://localhost:8080/"
        },
        "outputId": "f6136447-2b36-4847-ac5a-176c75c26aab"
      },
      "execution_count": null,
      "outputs": [
        {
          "output_type": "stream",
          "name": "stdout",
          "text": [
            "tensor([[0.7693, 0.1920, 0.3881, 0.4187, 0.6808, 0.6597, 0.8157, 0.6081, 0.5121,\n",
            "         0.5391],\n",
            "        [0.0030, 0.6701, 0.5229, 0.4281, 0.5255, 0.8896, 0.5112, 0.4694, 0.8068,\n",
            "         0.4849],\n",
            "        [0.7186, 0.1434, 0.4471, 0.3928, 0.3264, 0.5814, 0.1491, 0.1794, 0.4086,\n",
            "         0.7308],\n",
            "        [0.1666, 0.2179, 0.5809, 0.0837, 0.5539, 0.1119, 0.4449, 0.0432, 0.6000,\n",
            "         0.8595]])\n",
            "tensor([1, 5, 3, 7])\n",
            "Total loss for this batch: 2.4135169982910156\n"
          ]
        }
      ]
    },
    {
      "cell_type": "code",
      "source": [
        "# Optimizers specified in the torch.optim package\n",
        "optimizer = torch.optim.SGD(model.parameters(), lr=0.001, momentum=0.9)"
      ],
      "metadata": {
        "id": "XsCcqHhbUcie"
      },
      "execution_count": null,
      "outputs": []
    },
    {
      "cell_type": "code",
      "source": [
        "def train_one_epoch(epoch_index, tb_writer):\n",
        "    running_loss = 0.\n",
        "    last_loss = 0.\n",
        "\n",
        "    # Here, we use enumerate(training_loader) instead of\n",
        "    # iter(training_loader) so that we can track the batch\n",
        "    # index and do some intra-epoch reporting\n",
        "    for i, data in enumerate(training_loader):\n",
        "        # Every data instance is an input + label pair\n",
        "        inputs, labels = data\n",
        "\n",
        "        # Zero your gradients for every batch!\n",
        "        optimizer.zero_grad()\n",
        "\n",
        "        # Make predictions for this batch\n",
        "        outputs = model(inputs)\n",
        "\n",
        "        # Compute the loss and its gradients\n",
        "        loss = loss_fn(outputs, labels)\n",
        "        loss.backward()\n",
        "\n",
        "        # Adjust learning weights\n",
        "        optimizer.step()\n",
        "\n",
        "        # Gather data and report\n",
        "        running_loss += loss.item()\n",
        "        if i % 1000 == 999:\n",
        "            last_loss = running_loss / 1000 # loss per batch\n",
        "            print('  batch {} loss: {}'.format(i + 1, last_loss))\n",
        "            tb_x = epoch_index * len(training_loader) + i + 1\n",
        "            tb_writer.add_scalar('Loss/train', last_loss, tb_x)\n",
        "            running_loss = 0.\n",
        "\n",
        "    return last_loss"
      ],
      "metadata": {
        "id": "iZ9qocS7UjAD"
      },
      "execution_count": null,
      "outputs": []
    },
    {
      "cell_type": "code",
      "source": [
        "# Initializing in a separate cell so we can easily add more epochs to the same run\n",
        "timestamp = datetime.now().strftime('%Y%m%d_%H%M%S')\n",
        "writer = SummaryWriter('runs/fashion_trainer_{}'.format(timestamp))\n",
        "epoch_number = 0\n",
        "\n",
        "EPOCHS = 5\n",
        "\n",
        "best_vloss = 1_000_000.\n",
        "best_epoch = -1 # Store the epoch number when best_vloss is achieved\n",
        "\n",
        "for epoch in range(EPOCHS):\n",
        "    print('EPOCH {}:'.format(epoch_number + 1))\n",
        "\n",
        "    # Make sure gradient tracking is on, and do a pass over the data\n",
        "    model.train(True)\n",
        "    avg_loss = train_one_epoch(epoch_number, writer)\n",
        "\n",
        "\n",
        "    running_vloss = 0.0\n",
        "    # Set the model to evaluation mode, disabling dropout and using population\n",
        "    # statistics for batch normalization.\n",
        "    model.eval()\n",
        "\n",
        "    # Disable gradient computation and reduce memory consumption.\n",
        "    with torch.no_grad():\n",
        "        for i, vdata in enumerate(validation_loader):\n",
        "            vinputs, vlabels = vdata\n",
        "            voutputs = model(vinputs)\n",
        "            vloss = loss_fn(voutputs, vlabels)\n",
        "            running_vloss += vloss\n",
        "\n",
        "    avg_vloss = running_vloss / (i + 1)\n",
        "    print('LOSS train {} valid {}'.format(avg_loss, avg_vloss))\n",
        "\n",
        "    # Log the running loss averaged per batch\n",
        "    # for both training and validation\n",
        "    writer.add_scalars('Training vs. Validation Loss',\n",
        "                    { 'Training' : avg_loss, 'Validation' : avg_vloss },\n",
        "                    epoch_number + 1)\n",
        "    writer.flush()\n",
        "\n",
        "    # Track best performance, and save the model's state\n",
        "    if avg_vloss < best_vloss:\n",
        "        best_vloss = avg_vloss\n",
        "        best_epoch = epoch_number # Update best_epoch\n",
        "        model_path = 'model_{}_{}'.format(timestamp, best_epoch) # Use best_epoch in filename\n",
        "        torch.save(model.state_dict(), model_path)\n",
        "\n",
        "    epoch_number += 1"
      ],
      "metadata": {
        "colab": {
          "base_uri": "https://localhost:8080/"
        },
        "id": "FPu-2QiqUrzc",
        "outputId": "95d21f49-a362-4d95-d5cf-2619764518ca"
      },
      "execution_count": null,
      "outputs": [
        {
          "output_type": "stream",
          "name": "stdout",
          "text": [
            "EPOCH 1:\n",
            "  batch 1000 loss: 2.0503210529983042\n",
            "  batch 2000 loss: 0.8966074889935554\n",
            "  batch 3000 loss: 0.7055059073260054\n",
            "  batch 4000 loss: 0.6715282292822375\n",
            "  batch 5000 loss: 0.6004958516084589\n",
            "  batch 6000 loss: 0.5371918490948155\n",
            "  batch 7000 loss: 0.5648722326206044\n",
            "  batch 8000 loss: 0.5261741112123709\n",
            "  batch 9000 loss: 0.47849520814081187\n",
            "  batch 10000 loss: 0.48935364251659486\n",
            "  batch 11000 loss: 0.4730883260043338\n",
            "  batch 12000 loss: 0.43968971011642133\n",
            "  batch 13000 loss: 0.44312652584782336\n",
            "  batch 14000 loss: 0.4440808723277878\n",
            "  batch 15000 loss: 0.43031426716547866\n",
            "LOSS train 0.43031426716547866 valid 0.40819239616394043\n",
            "EPOCH 2:\n",
            "  batch 1000 loss: 0.39649118871625977\n",
            "  batch 2000 loss: 0.3814636865046341\n",
            "  batch 3000 loss: 0.3810016330620565\n",
            "  batch 4000 loss: 0.40139251010240695\n",
            "  batch 5000 loss: 0.3635085761831724\n",
            "  batch 6000 loss: 0.36916448151884834\n",
            "  batch 7000 loss: 0.3716342924725031\n",
            "  batch 8000 loss: 0.3603611913937784\n",
            "  batch 9000 loss: 0.38411658161482776\n",
            "  batch 10000 loss: 0.36620332540909295\n",
            "  batch 11000 loss: 0.3634625066770823\n",
            "  batch 12000 loss: 0.3598850981799187\n",
            "  batch 13000 loss: 0.35595278268516994\n",
            "  batch 14000 loss: 0.35209866160241654\n",
            "  batch 15000 loss: 0.3320505768318253\n",
            "LOSS train 0.3320505768318253 valid 0.3673233985900879\n",
            "EPOCH 3:\n",
            "  batch 1000 loss: 0.3267015040471306\n",
            "  batch 2000 loss: 0.2953195910338109\n",
            "  batch 3000 loss: 0.3213019669322748\n",
            "  batch 4000 loss: 0.3359321276608971\n",
            "  batch 5000 loss: 0.3255346767462179\n",
            "  batch 6000 loss: 0.34365278245895753\n",
            "  batch 7000 loss: 0.3249158976546605\n",
            "  batch 8000 loss: 0.3118492715119719\n",
            "  batch 9000 loss: 0.3111364497198665\n",
            "  batch 10000 loss: 0.32624577453764503\n",
            "  batch 11000 loss: 0.30618735992933216\n",
            "  batch 12000 loss: 0.32337832074763717\n",
            "  batch 13000 loss: 0.31501934564567635\n",
            "  batch 14000 loss: 0.31074199929357565\n",
            "  batch 15000 loss: 0.30102088807849214\n",
            "LOSS train 0.30102088807849214 valid 0.3322763442993164\n",
            "EPOCH 4:\n",
            "  batch 1000 loss: 0.2991136967133352\n",
            "  batch 2000 loss: 0.2646460972185614\n",
            "  batch 3000 loss: 0.2973661697259813\n",
            "  batch 4000 loss: 0.28985410209924156\n",
            "  batch 5000 loss: 0.2822896262611539\n",
            "  batch 6000 loss: 0.29285581488076967\n",
            "  batch 7000 loss: 0.26692148150588035\n",
            "  batch 8000 loss: 0.3051077652396998\n",
            "  batch 9000 loss: 0.29132135642837603\n",
            "  batch 10000 loss: 0.30231128598052603\n",
            "  batch 11000 loss: 0.2974680518449968\n",
            "  batch 12000 loss: 0.2868272354567889\n",
            "  batch 13000 loss: 0.290461667217809\n",
            "  batch 14000 loss: 0.2953493147413828\n",
            "  batch 15000 loss: 0.29881901290539825\n",
            "LOSS train 0.29881901290539825 valid 0.3236143887042999\n",
            "EPOCH 5:\n",
            "  batch 1000 loss: 0.2540684992366114\n",
            "  batch 2000 loss: 0.284897626679387\n",
            "  batch 3000 loss: 0.26204183380886387\n",
            "  batch 4000 loss: 0.26559866445155966\n",
            "  batch 5000 loss: 0.267974240033589\n",
            "  batch 6000 loss: 0.2851617979816583\n",
            "  batch 7000 loss: 0.25833610038035115\n",
            "  batch 8000 loss: 0.2747284461925578\n",
            "  batch 9000 loss: 0.2620121672205878\n",
            "  batch 10000 loss: 0.2729633002930386\n",
            "  batch 11000 loss: 0.2828703383358879\n",
            "  batch 12000 loss: 0.2636665301105895\n",
            "  batch 13000 loss: 0.27368487933625874\n",
            "  batch 14000 loss: 0.2695214547357027\n",
            "  batch 15000 loss: 0.28956193979117595\n",
            "LOSS train 0.28956193979117595 valid 0.3188910186290741\n"
          ]
        }
      ]
    },
    {
      "cell_type": "code",
      "source": [
        "saved_model = GarmentClassifier()\n",
        "# Define PATH using the timestamp and the best epoch number\n",
        "PATH = 'model_{}_{}'.format(timestamp, best_epoch)\n",
        "saved_model.load_state_dict(torch.load(PATH))"
      ],
      "metadata": {
        "id": "mDgqgOF7WNvA",
        "colab": {
          "base_uri": "https://localhost:8080/"
        },
        "outputId": "778ac788-723d-484a-cdfe-4713bf6b8cdf"
      },
      "execution_count": null,
      "outputs": [
        {
          "output_type": "execute_result",
          "data": {
            "text/plain": [
              "<All keys matched successfully>"
            ]
          },
          "metadata": {},
          "execution_count": 18
        }
      ]
    }
  ]
}